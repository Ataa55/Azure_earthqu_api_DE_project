{
 "cells": [
  {
   "cell_type": "code",
   "execution_count": 0,
   "metadata": {
    "application/vnd.databricks.v1+cell": {
     "cellMetadata": {
      "byteLimit": 2048000,
      "implicitDf": true,
      "rowLimit": 10000
     },
     "inputWidgets": {},
     "nuid": "849a9bb9-76c9-4823-aeed-280b5fb7dc3a",
     "showTitle": false,
     "tableResultSettingsMap": {},
     "title": ""
    }
   },
   "outputs": [
    {
     "data": {
      "text/html": [
       "<style scoped>\n",
       "  .table-result-container {\n",
       "    max-height: 300px;\n",
       "    overflow: auto;\n",
       "  }\n",
       "  table, th, td {\n",
       "    border: 1px solid black;\n",
       "    border-collapse: collapse;\n",
       "  }\n",
       "  th, td {\n",
       "    padding: 5px;\n",
       "  }\n",
       "  th {\n",
       "    text-align: left;\n",
       "  }\n",
       "</style><div class='table-result-container'><table class='table-result'><thead style='background-color: white'><tr><th>catalog</th></tr></thead><tbody><tr><td>earthquake_pip</td></tr><tr><td>hive_metastore</td></tr><tr><td>samples</td></tr><tr><td>system</td></tr></tbody></table></div>"
      ]
     },
     "metadata": {
      "application/vnd.databricks.v1+output": {
       "addedWidgets": {},
       "aggData": [],
       "aggError": "",
       "aggOverflow": false,
       "aggSchema": [],
       "aggSeriesLimitReached": false,
       "aggType": "",
       "arguments": {},
       "columnCustomDisplayInfos": {},
       "data": [
        [
         "earthquake_pip"
        ],
        [
         "hive_metastore"
        ],
        [
         "samples"
        ],
        [
         "system"
        ]
       ],
       "datasetInfos": [],
       "dbfsResultPath": null,
       "isJsonSchema": true,
       "metadata": {
        "createTempViewForImplicitDf": true,
        "dataframeName": "_sqldf",
        "executionCount": 109
       },
       "overflow": false,
       "plotOptions": {
        "customPlotOptions": {},
        "displayType": "table",
        "pivotAggregation": null,
        "pivotColumns": null,
        "xColumns": null,
        "yColumns": null
       },
       "removedWidgets": [],
       "schema": [
        {
         "metadata": "{}",
         "name": "catalog",
         "type": "\"string\""
        }
       ],
       "type": "table"
      }
     },
     "output_type": "display_data"
    }
   ],
   "source": [
    "%sql\n",
    "show catalogs;"
   ]
  },
  {
   "cell_type": "code",
   "execution_count": 0,
   "metadata": {
    "application/vnd.databricks.v1+cell": {
     "cellMetadata": {
      "byteLimit": 2048000,
      "implicitDf": true,
      "rowLimit": 10000
     },
     "inputWidgets": {},
     "nuid": "ca7ebc5f-9f4b-4eae-b46f-96b714d15535",
     "showTitle": false,
     "tableResultSettingsMap": {},
     "title": ""
    }
   },
   "outputs": [],
   "source": [
    "from pyspark.sql import functions as F\n",
    "from pyspark.sql import types as T\n",
    "\n",
    "# glopal variables\n",
    "storage_account = \"ataaearthquakelake\"\n",
    "datalake_key = \"xxxxxxx\"\n",
    "bucket_name = \"bronze\"\n",
    "folder_path = \"raw_data\"\n",
    "raw_data_location = f\"abfss://{bucket_name}@{storage_account}.dfs.core.windows.net/{folder_path}/\"\n",
    "\n",
    ",\n",
    "spark.conf.set(f\"fs.azure.account.key.{storage_account}.dfs.core.windows.net\", \n",
    "               datalake_key)\n"
   ]
  },
  {
   "cell_type": "code",
   "execution_count": 0,
   "metadata": {
    "application/vnd.databricks.v1+cell": {
     "cellMetadata": {
      "byteLimit": 2048000,
      "implicitDf": true,
      "rowLimit": 10000
     },
     "inputWidgets": {},
     "nuid": "3c3d65cd-0489-4423-8d7f-f2c7f2a4a03b",
     "showTitle": false,
     "tableResultSettingsMap": {},
     "title": ""
    }
   },
   "outputs": [
    {
     "data": {
      "text/plain": [
       "datetime.date(2025, 2, 12)"
      ]
     },
     "execution_count": 4,
     "metadata": {},
     "output_type": "execute_result"
    }
   ],
   "source": [
    "date_query = \"\"\"select max(creation_date) as max_date  from delta.`abfss://gold@ataaearthquakelake.dfs.core.windows.net/earthqu_details_gold`\"\"\"\n",
    "max_date = spark.sql(date_query).collect()[0][0]\n",
    "max_date"
   ]
  },
  {
   "cell_type": "code",
   "execution_count": 0,
   "metadata": {
    "application/vnd.databricks.v1+cell": {
     "cellMetadata": {
      "byteLimit": 2048000,
      "rowLimit": 10000
     },
     "inputWidgets": {},
     "nuid": "66f948fe-16bb-4f03-b15c-f90c198cc098",
     "showTitle": false,
     "tableResultSettingsMap": {},
     "title": ""
    }
   },
   "outputs": [],
   "source": [
    "df_bronze = spark.read.option(\"multiline\", \"true\")\\\n",
    "                          .json(raw_data_location)"
   ]
  },
  {
   "cell_type": "code",
   "execution_count": 0,
   "metadata": {
    "application/vnd.databricks.v1+cell": {
     "cellMetadata": {
      "byteLimit": 2048000,
      "rowLimit": 10000
     },
     "inputWidgets": {},
     "nuid": "6c1ebbc9-32a4-4961-ac3b-1dbba5be084a",
     "showTitle": false,
     "tableResultSettingsMap": {},
     "title": ""
    }
   },
   "outputs": [
    {
     "name": "stdout",
     "output_type": "stream",
     "text": [
      "root\n",
      " |-- bbox: array (nullable = true)\n",
      " |    |-- element: double (containsNull = true)\n",
      " |-- creation_date: string (nullable = true)\n",
      " |-- features: array (nullable = true)\n",
      " |    |-- element: struct (containsNull = true)\n",
      " |    |    |-- geometry: struct (nullable = true)\n",
      " |    |    |    |-- coordinates: array (nullable = true)\n",
      " |    |    |    |    |-- element: double (containsNull = true)\n",
      " |    |    |    |-- type: string (nullable = true)\n",
      " |    |    |-- id: string (nullable = true)\n",
      " |    |    |-- properties: struct (nullable = true)\n",
      " |    |    |    |-- alert: string (nullable = true)\n",
      " |    |    |    |-- cdi: double (nullable = true)\n",
      " |    |    |    |-- code: string (nullable = true)\n",
      " |    |    |    |-- detail: string (nullable = true)\n",
      " |    |    |    |-- dmin: double (nullable = true)\n",
      " |    |    |    |-- felt: long (nullable = true)\n",
      " |    |    |    |-- gap: double (nullable = true)\n",
      " |    |    |    |-- ids: string (nullable = true)\n",
      " |    |    |    |-- mag: double (nullable = true)\n",
      " |    |    |    |-- magType: string (nullable = true)\n",
      " |    |    |    |-- mmi: double (nullable = true)\n",
      " |    |    |    |-- net: string (nullable = true)\n",
      " |    |    |    |-- nst: long (nullable = true)\n",
      " |    |    |    |-- place: string (nullable = true)\n",
      " |    |    |    |-- rms: double (nullable = true)\n",
      " |    |    |    |-- sig: long (nullable = true)\n",
      " |    |    |    |-- sources: string (nullable = true)\n",
      " |    |    |    |-- status: string (nullable = true)\n",
      " |    |    |    |-- time: long (nullable = true)\n",
      " |    |    |    |-- title: string (nullable = true)\n",
      " |    |    |    |-- tsunami: long (nullable = true)\n",
      " |    |    |    |-- type: string (nullable = true)\n",
      " |    |    |    |-- types: string (nullable = true)\n",
      " |    |    |    |-- tz: string (nullable = true)\n",
      " |    |    |    |-- updated: long (nullable = true)\n",
      " |    |    |    |-- url: string (nullable = true)\n",
      " |    |    |-- type: string (nullable = true)\n",
      " |-- metadata: struct (nullable = true)\n",
      " |    |-- api: string (nullable = true)\n",
      " |    |-- count: long (nullable = true)\n",
      " |    |-- generated: long (nullable = true)\n",
      " |    |-- status: long (nullable = true)\n",
      " |    |-- title: string (nullable = true)\n",
      " |    |-- url: string (nullable = true)\n",
      " |-- type: string (nullable = true)\n",
      "\n"
     ]
    }
   ],
   "source": [
    "df_bronze.printSchema()"
   ]
  },
  {
   "cell_type": "code",
   "execution_count": 0,
   "metadata": {
    "application/vnd.databricks.v1+cell": {
     "cellMetadata": {
      "byteLimit": 2048000,
      "rowLimit": 10000
     },
     "inputWidgets": {},
     "nuid": "ddbf0a72-ff55-4061-86ba-8711b871ab0d",
     "showTitle": false,
     "tableResultSettingsMap": {},
     "title": ""
    }
   },
   "outputs": [],
   "source": [
    "df_exploded = df_bronze.select(F.col(\"features\"), F.col(\"creation_date\"))\\\n",
    "    .withColumn(\"features\", F.explode(\"features\"))"
   ]
  },
  {
   "cell_type": "code",
   "execution_count": 0,
   "metadata": {
    "application/vnd.databricks.v1+cell": {
     "cellMetadata": {
      "byteLimit": 2048000,
      "rowLimit": 10000
     },
     "inputWidgets": {},
     "nuid": "63ec1fb9-a2d3-4f3f-9592-16c756829ef6",
     "showTitle": false,
     "tableResultSettingsMap": {},
     "title": ""
    }
   },
   "outputs": [
    {
     "name": "stdout",
     "output_type": "stream",
     "text": [
      "root\n",
      " |-- features: struct (nullable = true)\n",
      " |    |-- geometry: struct (nullable = true)\n",
      " |    |    |-- coordinates: array (nullable = true)\n",
      " |    |    |    |-- element: double (containsNull = true)\n",
      " |    |    |-- type: string (nullable = true)\n",
      " |    |-- id: string (nullable = true)\n",
      " |    |-- properties: struct (nullable = true)\n",
      " |    |    |-- alert: string (nullable = true)\n",
      " |    |    |-- cdi: double (nullable = true)\n",
      " |    |    |-- code: string (nullable = true)\n",
      " |    |    |-- detail: string (nullable = true)\n",
      " |    |    |-- dmin: double (nullable = true)\n",
      " |    |    |-- felt: long (nullable = true)\n",
      " |    |    |-- gap: double (nullable = true)\n",
      " |    |    |-- ids: string (nullable = true)\n",
      " |    |    |-- mag: double (nullable = true)\n",
      " |    |    |-- magType: string (nullable = true)\n",
      " |    |    |-- mmi: double (nullable = true)\n",
      " |    |    |-- net: string (nullable = true)\n",
      " |    |    |-- nst: long (nullable = true)\n",
      " |    |    |-- place: string (nullable = true)\n",
      " |    |    |-- rms: double (nullable = true)\n",
      " |    |    |-- sig: long (nullable = true)\n",
      " |    |    |-- sources: string (nullable = true)\n",
      " |    |    |-- status: string (nullable = true)\n",
      " |    |    |-- time: long (nullable = true)\n",
      " |    |    |-- title: string (nullable = true)\n",
      " |    |    |-- tsunami: long (nullable = true)\n",
      " |    |    |-- type: string (nullable = true)\n",
      " |    |    |-- types: string (nullable = true)\n",
      " |    |    |-- tz: string (nullable = true)\n",
      " |    |    |-- updated: long (nullable = true)\n",
      " |    |    |-- url: string (nullable = true)\n",
      " |    |-- type: string (nullable = true)\n",
      " |-- creation_date: string (nullable = true)\n",
      "\n"
     ]
    }
   ],
   "source": [
    "df_exploded.printSchema()"
   ]
  },
  {
   "cell_type": "code",
   "execution_count": 0,
   "metadata": {
    "application/vnd.databricks.v1+cell": {
     "cellMetadata": {
      "byteLimit": 2048000,
      "rowLimit": 10000
     },
     "inputWidgets": {},
     "nuid": "15a8a8ca-644f-4af6-817d-beeb712b09ad",
     "showTitle": false,
     "tableResultSettingsMap": {},
     "title": ""
    }
   },
   "outputs": [],
   "source": [
    "df_flat_silver = df_exploded.select(\n",
    "                             F.col(\"features.id\").alias(\"id\"),\n",
    "                             F.col(\"features.geometry.coordinates\").getItem(0).alias(\"Longitude\"),\n",
    "                             F.col(\"features.geometry.coordinates\").getItem(1).alias(\"Latitude\"),\n",
    "                             F.col(\"features.geometry.coordinates\").getItem(2).alias(\"Depth\"), \n",
    "                             F.col(\"features.properties.title\").alias(\"title\"),\n",
    "                             F.col(\"features.properties.place\").alias(\"place_description\"),\n",
    "                             F.col(\"features.properties.sig\").alias(\"sig\"),\n",
    "                             F.col(\"features.properties.mag\").alias(\"mag\"),\n",
    "                             F.col(\"features.properties.magType\").alias(\"magType\"),\n",
    "                             F.col(\"features.properties.time\").alias(\"time\"),\n",
    "                             F.col(\"features.properties.updated\").alias(\"updated\"),\n",
    "                             F.col(\"creation_date\"))\\\n",
    "                            .withColumn(\"updated\", (F.col(\"updated\")/1000).cast(T.TimestampType()))\\\n",
    "                            .withColumn(\"time\", (F.col(\"time\")/1000).cast(T.TimestampType()))\\\n",
    "                            .withColumn(\"creation_date\", (F.col(\"creation_date\")).cast(T.DateType()))"
   ]
  },
  {
   "cell_type": "code",
   "execution_count": 0,
   "metadata": {
    "application/vnd.databricks.v1+cell": {
     "cellMetadata": {
      "byteLimit": 2048000,
      "rowLimit": 10000
     },
     "inputWidgets": {},
     "nuid": "139b17b5-cf1c-47c5-ba39-2218d90a3b0e",
     "showTitle": false,
     "tableResultSettingsMap": {},
     "title": ""
    }
   },
   "outputs": [
    {
     "name": "stdout",
     "output_type": "stream",
     "text": [
      "root\n",
      " |-- id: string (nullable = true)\n",
      " |-- Longitude: double (nullable = true)\n",
      " |-- Latitude: double (nullable = true)\n",
      " |-- Depth: double (nullable = true)\n",
      " |-- title: string (nullable = true)\n",
      " |-- place_description: string (nullable = true)\n",
      " |-- sig: long (nullable = true)\n",
      " |-- mag: double (nullable = true)\n",
      " |-- magType: string (nullable = true)\n",
      " |-- time: timestamp (nullable = true)\n",
      " |-- updated: timestamp (nullable = true)\n",
      " |-- creation_date: date (nullable = true)\n",
      "\n"
     ]
    }
   ],
   "source": [
    "df_flat_silver.printSchema()"
   ]
  },
  {
   "cell_type": "code",
   "execution_count": 0,
   "metadata": {
    "application/vnd.databricks.v1+cell": {
     "cellMetadata": {
      "byteLimit": 2048000,
      "rowLimit": 10000
     },
     "inputWidgets": {},
     "nuid": "675bfcb9-01c9-479a-b02f-7053035ff79c",
     "showTitle": false,
     "tableResultSettingsMap": {},
     "title": ""
    }
   },
   "outputs": [],
   "source": [
    "df_silver_new = df_flat_silver.filter(F.col(\"creation_date\") > max_date)"
   ]
  },
  {
   "cell_type": "code",
   "execution_count": 0,
   "metadata": {
    "application/vnd.databricks.v1+cell": {
     "cellMetadata": {
      "byteLimit": 2048000,
      "rowLimit": 10000
     },
     "inputWidgets": {},
     "nuid": "c15a9076-4fd1-4297-b609-38dc549a402b",
     "showTitle": false,
     "tableResultSettingsMap": {},
     "title": ""
    }
   },
   "outputs": [
    {
     "name": "stdout",
     "output_type": "stream",
     "text": [
      "+---+---------+--------+-----+-----+-----------------+---+---+-------+----+-------+-------------+\n",
      "| id|Longitude|Latitude|Depth|title|place_description|sig|mag|magType|time|updated|creation_date|\n",
      "+---+---------+--------+-----+-----+-----------------+---+---+-------+----+-------+-------------+\n",
      "+---+---------+--------+-----+-----+-----------------+---+---+-------+----+-------+-------------+\n",
      "\n"
     ]
    }
   ],
   "source": [
    "df_silver_new.show()"
   ]
  },
  {
   "cell_type": "code",
   "execution_count": 0,
   "metadata": {
    "application/vnd.databricks.v1+cell": {
     "cellMetadata": {
      "byteLimit": 2048000,
      "rowLimit": 10000
     },
     "inputWidgets": {},
     "nuid": "064ae078-8758-49a0-9f0b-cbb75fbfbd57",
     "showTitle": false,
     "tableResultSettingsMap": {},
     "title": ""
    }
   },
   "outputs": [
    {
     "name": "stdout",
     "output_type": "stream",
     "text": [
      "no new data to be written to the silver layer\n"
     ]
    }
   ],
   "source": [
    "if not df_silver_new.isEmpty():\n",
    "    bucket_name = \"silver\"\n",
    "    folder_path = \"earthqu_details_silver\"\n",
    "    silver_data_location = f\"abfss://{bucket_name}@{storage_account}.dfs.core.windows.net/{folder_path}/\"\n",
    "    df_silver_new.write.mode(\"overwrite\").format(\"parquet\").save(silver_data_location)\n",
    "\n",
    "elif df_silver_new.isEmpty():\n",
    "    print(\"no new data to be written to the silver layer\")\n",
    "    bucket_name = \"silver\"\n",
    "    folder_path = \"earthqu_details_silver\"\n",
    "    silver_data_location = f\"abfss://{bucket_name}@{storage_account}.dfs.core.windows.net/{folder_path}/\"\n",
    "    df_silver_new.write.mode(\"overwrite\").format(\"parquet\").save(silver_data_location)"
   ]
  },
  {
   "cell_type": "code",
   "execution_count": 0,
   "metadata": {
    "application/vnd.databricks.v1+cell": {
     "cellMetadata": {
      "byteLimit": 2048000,
      "rowLimit": 10000
     },
     "inputWidgets": {},
     "nuid": "799a1242-9193-4c48-97fb-16552fb283b9",
     "showTitle": false,
     "tableResultSettingsMap": {},
     "title": ""
    }
   },
   "outputs": [
    {
     "name": "stdout",
     "output_type": "stream",
     "text": [
      "+---+---------+--------+-----+-----+-----------------+---+---+-------+----+-------+-------------+\n",
      "| id|Longitude|Latitude|Depth|title|place_description|sig|mag|magType|time|updated|creation_date|\n",
      "+---+---------+--------+-----+-----+-----------------+---+---+-------+----+-------+-------------+\n",
      "+---+---------+--------+-----+-----+-----------------+---+---+-------+----+-------+-------------+\n",
      "\n"
     ]
    }
   ],
   "source": [
    "df_silver_new.show()"
   ]
  },
  {
   "cell_type": "code",
   "execution_count": 0,
   "metadata": {
    "application/vnd.databricks.v1+cell": {
     "cellMetadata": {},
     "inputWidgets": {},
     "nuid": "200cc92f-fab6-417f-8225-c73898934520",
     "showTitle": false,
     "tableResultSettingsMap": {},
     "title": ""
    }
   },
   "outputs": [],
   "source": []
  }
 ],
 "metadata": {
  "application/vnd.databricks.v1+notebook": {
   "computePreferences": null,
   "dashboards": [],
   "environmentMetadata": {
    "base_environment": "",
    "environment_version": "2"
   },
   "language": "python",
   "notebookMetadata": {
    "mostRecentlyExecutedCommandWithImplicitDF": {
     "commandId": -1,
     "dataframes": [
      "_sqldf"
     ]
    },
    "pythonIndentUnit": 4
   },
   "notebookName": "bronze_to_silver",
   "widgets": {}
  },
  "language_info": {
   "name": "python"
  }
 },
 "nbformat": 4,
 "nbformat_minor": 0
}
